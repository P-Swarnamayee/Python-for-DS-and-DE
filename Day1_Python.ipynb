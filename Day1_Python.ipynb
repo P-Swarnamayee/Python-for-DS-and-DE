{
 "cells": [
  {
   "cell_type": "markdown",
   "id": "700093c1-10ca-4c9a-9189-1cc119027363",
   "metadata": {},
   "source": [
    "### 1.) Sorting a list\n",
    "Finish the solution so that it sorts the passed in array of numbers. If the function passes in an empty array or null/nil value then it should return an empty array.\n",
    "\n",
    "For example:\n",
    "\n",
    "solution([1,2,3,10,5]) # should return [1,2,3,5,10]\n",
    "solution(None) # should return []"
   ]
  },
  {
   "cell_type": "code",
   "execution_count": 17,
   "id": "794042cd-5afa-458d-9c27-53c3b37e3ebd",
   "metadata": {},
   "outputs": [
    {
     "name": "stdout",
     "output_type": "stream",
     "text": [
      "[1, 2, 3, 5, 6]\n"
     ]
    }
   ],
   "source": [
    "#nums = [1,2,3,10,5]\n",
    "def solution(nums):\n",
    "    if nums!=None:\n",
    "        op = sorted(nums)\n",
    "    else:\n",
    "        op = []\n",
    "    return op\n",
    "\n",
    "print(solution([1,2,3,6,5]))\n",
    "    "
   ]
  },
  {
   "cell_type": "code",
   "execution_count": 20,
   "id": "458cbab7-a2c7-4566-94bc-f1d49f972bc5",
   "metadata": {},
   "outputs": [
    {
     "name": "stdout",
     "output_type": "stream",
     "text": [
      "[1, 2, 3, 5, 6]\n"
     ]
    }
   ],
   "source": [
    "def solution(nums):\n",
    "    op = sorted(nums) if nums!=None else []\n",
    "    return op\n",
    "\n",
    "print(solution([1,2,3,6,5]))"
   ]
  },
  {
   "cell_type": "code",
   "execution_count": 19,
   "id": "03c06082-b31e-4f82-b5a1-0b8e71a72669",
   "metadata": {},
   "outputs": [
    {
     "name": "stdout",
     "output_type": "stream",
     "text": [
      "[]\n"
     ]
    }
   ],
   "source": [
    "def solution(nums):\n",
    "    op = sorted(nums) if nums!=None else []\n",
    "    return op\n",
    "\n",
    "print(solution(None))"
   ]
  },
  {
   "cell_type": "markdown",
   "id": "65445953-7c19-45d4-8e16-1d03ccb2bbc1",
   "metadata": {},
   "source": [
    "### 2.) Count characters in your string\n",
    "The main idea is to count all the occurring characters in a string. If you have a string like aba, then the result should be {'a': 2, 'b': 1}.\r\n",
    "\r\n",
    "What if the string is empty? Then the result should be empty object literal, {}."
   ]
  },
  {
   "cell_type": "code",
   "execution_count": 43,
   "id": "f4be2a56-ec9e-4200-a913-aeb0d0cde047",
   "metadata": {},
   "outputs": [
    {
     "name": "stdout",
     "output_type": "stream",
     "text": [
      "{'x': 1, 'm': 2, 'o': 1, 'U': 2, 'E': 1, 'e': 3, 'X': 1, 'k': 1, 'y': 4, 'L': 2, 'j': 2, 'F': 1, 'V': 1, 'C': 1, 'p': 1, 'O': 1, 'a': 4, 'Z': 2, 'W': 3, 'G': 2, 'R': 1, 'h': 2, 'Y': 2, 's': 2, 'S': 3, 'Q': 1, 'z': 3, 'n': 2, 'q': 1, 'c': 2, 'l': 4, 'A': 2, 'r': 5, 'B': 3, 'w': 3, 'H': 2, 'J': 2, 'M': 4, 't': 1, 'K': 3}\n"
     ]
    }
   ],
   "source": [
    "def count(s):\n",
    "    str_given = s\n",
    "    result_dict = {}\n",
    "    conv_str = list(set(str_given))\n",
    "    if len(str_given)!=0:\n",
    "        for i in conv_str:\n",
    "            count = 0\n",
    "            for j in str_given:\n",
    "                if i==j:\n",
    "                    count+=1\n",
    "            result_dict[i]=count\n",
    "        return result_dict\n",
    "    else:\n",
    "        return {}\n",
    "\n",
    "print(count('ezrmGMCSyBwGzjxMprBUMAZLtyHcYMQAEYrsrsWKejOVlHWmwJlhSkzlJeZaUShlWKFaaLXwRnycrnKaqoBy'))\n",
    "\n"
   ]
  },
  {
   "cell_type": "markdown",
   "id": "babbfa21-b790-434b-84b3-a5a8e82b47a8",
   "metadata": {},
   "source": [
    "### 3.) List Filtering\n",
    "\n",
    "In this kata you will create a function that takes a list of non-negative integers and strings and returns a new list with the strings filtered out.\n",
    "\n",
    "Example:\n",
    "filter_list([1,2,'a','b']) == [1,2]\r\n",
    "filter_list([1,'a','b',0,15]) == [1,0,15]\r\n",
    "filter_list([1,2,'aasf','1','123',123]) == [1,2,123]123]\n"
   ]
  },
  {
   "cell_type": "code",
   "execution_count": 47,
   "id": "5f9564b4-6b43-4066-b20a-5815e74f4b0e",
   "metadata": {},
   "outputs": [
    {
     "data": {
      "text/plain": [
       "[1, 2, 123]"
      ]
     },
     "execution_count": 47,
     "metadata": {},
     "output_type": "execute_result"
    }
   ],
   "source": [
    "def filter_list(l):\n",
    "    result_list = []\n",
    "    for i in l:\n",
    "        if type(i)==int:\n",
    "            result_list.append(i)\n",
    "    return result_list\n",
    "\n",
    "filter_list([1,2,'aasf','1','123',123])"
   ]
  },
  {
   "cell_type": "markdown",
   "id": "398d3ffc-4cd8-4619-b6d8-7b96588695f8",
   "metadata": {},
   "source": [
    "### 4.) Which are in?\n",
    "\n",
    "Given two arrays of strings a1 and a2 return a sorted array r in lexicographical order of the strings of a1 which are substrings of strings of a2.\r\n",
    "\r\n",
    "Example 1:\r\n",
    "a1 = [\"arp\", \"live\", \"strong\"]\r\n",
    "\r\n",
    "a2 = [\"lively\", \"alive\", \"harp\", \"sharp\", \"armstrong\"]\r\n",
    "\r\n",
    "returns [\"arp\", \"live\", \"strong\"]\r\n",
    "\r\n",
    "Example 2:\r\n",
    "a1 = [\"tarp\", \"mice\", \"bull\"]\r\n",
    "\r\n",
    "a2 = [\"lively\", \"alive\", \"harp\", \"sharp\", \"armstrong\"]\r\n",
    "\r\n",
    "returns []\r\n",
    "\r\n",
    "Notes:\r\n",
    "Arrays are written in \"general\" notation. See \"Your Test Cases\" for examples in your language.\r\n",
    "In Shell bash a1 and a2 are strings. The return is a string where words are separated by commas.\r\n",
    "Beware: In some languages r must be without duplicates."
   ]
  },
  {
   "cell_type": "code",
   "execution_count": 61,
   "id": "58568e28-28e2-4e01-b5d3-d1116e9d9d63",
   "metadata": {},
   "outputs": [
    {
     "name": "stdout",
     "output_type": "stream",
     "text": [
      "[]\n",
      "['arp', 'live', 'strong']\n",
      "['arp', 'live', 'strong']\n",
      "['arp']\n"
     ]
    }
   ],
   "source": [
    "def in_array(a1,a2):\n",
    "    r = []\n",
    "\n",
    "    for i in a1:\n",
    "        for j in a2:\n",
    "            if i in j:\n",
    "                r.append(i)\n",
    "            else:\n",
    "                r=r\n",
    "    return sorted(set(r))\n",
    "\n",
    "print(in_array([\"tarp\", \"mice\", \"bull\"],[\"lively\", \"alive\", \"harp\", \"sharp\", \"armstrong\"]))\n",
    "print(in_array([\"arp\", \"live\", \"strong\"],[\"lively\", \"alive\", \"harp\", \"sharp\", \"armstrong\"]))\n",
    "print(in_array([\"live\", \"arp\", \"strong\"],[\"lively\", \"alive\", \"harp\", \"sharp\", \"armstrong\"]))\n",
    "print(in_array([\"arp\", \"mice\", \"bull\"] ,[\"lively\", \"alive\", \"harp\", \"sharp\", \"armstrong\"]))"
   ]
  },
  {
   "cell_type": "markdown",
   "id": "d5bfa428-1638-4f34-afb0-aaa889953d60",
   "metadata": {},
   "source": [
    "### Simple Encryption-1: Alternating Split\n",
    "\n",
    "Implement a pseudo-encryption algorithm which given a string S and an integer N concatenates all the odd-indexed characters of S with all the even-indexed characters of S, this process should be repeated N times.\n",
    "\n",
    "Examples:\n",
    "encrypt(\"012345\", 1)  =>  \"135024\"\r\n",
    "encrypt(\"012345\", 2)  =>  \"135024\"  ->  \"304152\"\r\n",
    "encrypt(\"012345\", 3)  =>  \"135024\"  ->  \"304152\"  ->  \"012345\"\r\n",
    "\r\n",
    "encrypt(\"01234\", 1)  =>  \"13024\"\r\n",
    "encrypt(\"01234\", 2)  =>  \"13024\"  ->  \"32104\"\r\n",
    "encrypt(\"01234\", 3)  =>  \"13024\"  ->  \"32104\"  ->  \"\n",
    "\n",
    "Together with the encryption function, you should also implement a decryption function which reverses the process.\r\n",
    "\r\n",
    "If the string S is an empty value or the integer N is not positive, return the first argument without changes.20314\""
   ]
  },
  {
   "cell_type": "code",
   "execution_count": null,
   "id": "5e01bc50-5bc0-4204-8460-558a93e6a224",
   "metadata": {},
   "outputs": [],
   "source": [
    "def encrypt(text, n):\n",
    "    "
   ]
  },
  {
   "cell_type": "code",
   "execution_count": 103,
   "id": "0d438610-6524-48e1-b789-e6213699501d",
   "metadata": {},
   "outputs": [
    {
     "name": "stdout",
     "output_type": "stream",
     "text": [
      "\n"
     ]
    }
   ],
   "source": [
    "def encrypt(text,n):\n",
    "    odd = ''\n",
    "    even = ''\n",
    "    op=''\n",
    "    for i in range(n):\n",
    "        text=odd+even\n",
    "        for j,txt in enumerate(text):\n",
    "            if j%2!=0:\n",
    "                odd = odd+txt\n",
    "            else:\n",
    "                even=even+txt\n",
    "        print(odd+even)\n",
    "    \n",
    "\n",
    "encrypt('012345',1)\n"
   ]
  },
  {
   "cell_type": "code",
   "execution_count": 101,
   "id": "4da90b7c-7306-472c-a080-60945a20ec51",
   "metadata": {},
   "outputs": [
    {
     "name": "stdout",
     "output_type": "stream",
     "text": [
      "\n"
     ]
    }
   ],
   "source": [
    "print(odd)"
   ]
  },
  {
   "cell_type": "code",
   "execution_count": null,
   "id": "849acaca-0d8f-4e68-b807-400af99f40a3",
   "metadata": {},
   "outputs": [],
   "source": [
    "if j%2!=0:\n",
    "                odd=odd+text[j]\n",
    "            else:\n",
    "                even=even+text[j]\n",
    "        print(odd+even)\n",
    "        #op=odd+even"
   ]
  },
  {
   "cell_type": "code",
   "execution_count": 114,
   "id": "3efea438-bfaa-42e2-91f8-5b46f3605c93",
   "metadata": {},
   "outputs": [
    {
     "name": "stdout",
     "output_type": "stream",
     "text": [
      "135024\n",
      "304152\n",
      "None\n"
     ]
    }
   ],
   "source": [
    "def encrypt(s, n):\n",
    "    for i in range(1,n+1):\n",
    "        odd_chars = ''.join(s[i] for i in range(len(s)) if i % 2 != 0)\n",
    "        even_chars = ''.join(s[i] for i in range(len(s)) if i % 2 == 0)\n",
    "        s = odd_chars + even_chars\n",
    "        print(s)\n",
    "\n",
    "# Test cases\n",
    "#print(encrypt(\"012345\", 1))  # Output: \"135024\"\n",
    "print(encrypt(\"012345\", 2))  # Output: \"304152\"\n",
    "#print(encrypt(\"012345\", 3))  # Output: \"012345\"\n",
    "\n",
    "#print(encrypt(\"01234\", 1))   # Output: \"13024\"\n",
    "#print(encrypt(\"01234\", 2))   # Output: \"32104\"\n",
    "#print(encrypt(\"01234\", 3))   # Output: \"20314\""
   ]
  },
  {
   "cell_type": "code",
   "execution_count": null,
   "id": "3a45cff9-bb02-4747-9737-0e1e1df47370",
   "metadata": {},
   "outputs": [],
   "source": []
  },
  {
   "cell_type": "code",
   "execution_count": null,
   "id": "1110d0a1-4b25-4fb5-9a14-e60464ad29d3",
   "metadata": {},
   "outputs": [],
   "source": []
  }
 ],
 "metadata": {
  "kernelspec": {
   "display_name": "Python 3 (ipykernel)",
   "language": "python",
   "name": "python3"
  },
  "language_info": {
   "codemirror_mode": {
    "name": "ipython",
    "version": 3
   },
   "file_extension": ".py",
   "mimetype": "text/x-python",
   "name": "python",
   "nbconvert_exporter": "python",
   "pygments_lexer": "ipython3",
   "version": "3.11.7"
  }
 },
 "nbformat": 4,
 "nbformat_minor": 5
}
